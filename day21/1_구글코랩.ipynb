{
  "nbformat": 4,
  "nbformat_minor": 0,
  "metadata": {
    "colab": {
      "name": "1_구글코랩.ipynb",
      "provenance": [],
      "collapsed_sections": [],
      "toc_visible": true
    },
    "kernelspec": {
      "name": "python3",
      "display_name": "Python 3"
    },
    "language_info": {
      "name": "python"
    }
  },
  "cells": [
    {
      "cell_type": "markdown",
      "metadata": {
        "id": "-OkRBlnArCNC"
      },
      "source": [
        "# **1. 코랩의 성능**"
      ]
    },
    {
      "cell_type": "markdown",
      "metadata": {
        "id": "HCwCh1lQq9Zi"
      },
      "source": [
        "os환경 \n"
      ]
    },
    {
      "cell_type": "code",
      "metadata": {
        "colab": {
          "base_uri": "https://localhost:8080/"
        },
        "id": "eFFhDjGAuNGW",
        "outputId": "5bc9212c-f81c-49ad-c25a-9dfdedd1e220"
      },
      "source": [
        "!python --version"
      ],
      "execution_count": 1,
      "outputs": [
        {
          "output_type": "stream",
          "name": "stdout",
          "text": [
            "Python 3.7.12\n"
          ]
        }
      ]
    },
    {
      "cell_type": "markdown",
      "metadata": {
        "id": "NiPk1J78uUWk"
      },
      "source": [
        "# **2. 셀 단축키**"
      ]
    },
    {
      "cell_type": "markdown",
      "metadata": {
        "id": "dLSOg_viugdg"
      },
      "source": [
        "단축키 설정(컨트롤 + M,H)"
      ]
    }
  ]
}