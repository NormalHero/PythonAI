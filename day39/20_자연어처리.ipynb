{
 "cells": [
  {
   "cell_type": "markdown",
   "id": "e579b5cc-54c9-4f27-a4ff-ce34c0d8f20b",
   "metadata": {},
   "source": [
    "# 자연어 처리\n",
    "* NLU(자연어 이해) : Natural Language Understanding\n",
    "* NLG(자연어 생성) : Natural Language Generation\n",
    "* NLU + NLG = NLP(Natural Language Processing)"
   ]
  },
  {
   "cell_type": "markdown",
   "id": "abf7f764-d60f-489d-b3c8-8ee27b9994a6",
   "metadata": {},
   "source": [
    "### 자연어 -> NLU -> 의미 -> NLG -> 자연어"
   ]
  },
  {
   "cell_type": "markdown",
   "id": "0bad719e-7d7b-4640-9ab0-ebbd27180294",
   "metadata": {},
   "source": [
    "* 감정 분석 : 옷이 핏하게 잘 떨어지네요 , 긍정\n",
    "* 유사도 예측 : AI를 공부하는데 파이썬과 C언어 중 무엇을 배워야 하나요?, 유사 또는 비유사\n",
    "* 자연어 추론 : 강아지가 돌아다닌다, 개가 밖에 있다 또는 주인을 잃어 버렸다\n",
    "* 기계 독해 : 지문 뉴스 : 코로나 ~~~, 질문 : 오늘 코로나 확진자는? , 5000명\n",
    "* 의도 분류 : 오늘 날씨를 알려줘, 오늘 날씨는 추워요\n",
    "* 언어적 용인 가능성 : 그는 제주도에 갔다, 불가능"
   ]
  },
  {
   "cell_type": "markdown",
   "id": "d2e106b1-d0a4-4150-aec2-00478ed8dc2f",
   "metadata": {},
   "source": [
    "### 대화 시스템\n",
    "1. 목적 지향 대화 시스템\n",
    "    - 특정한 목적, 목표를 위한 대화를 하는 시스템\n",
    "    - SKT NUGU, KT AICC, NAVER AI CALL ..\n",
    "\n",
    "2. 오픈 도메인 대화 시스템\n",
    "    - 특정한 목적, 목표 없이 자유로운 주제의 대화를 하는 시스템\n",
    "    - 스캐터랩 이루다, 심심이"
   ]
  },
  {
   "cell_type": "markdown",
   "id": "d34d3d6f-d0d2-432a-9acf-d0c56c7e072e",
   "metadata": {},
   "source": [
    "### 목적 지향 대화 시스템\n",
    "TEXT -> NLU -> DM(Dialogue Management), DST, Policy -> NLG -> TEXT ACTION"
   ]
  },
  {
   "cell_type": "markdown",
   "id": "36d58e5e-c068-4466-bd60-009cf0a784fc",
   "metadata": {},
   "source": [
    "### 실습\n",
    "* 임베딩\n",
    "* 의도 분류\n",
    "* 정보 추출\n",
    "* OOD 분류"
   ]
  },
  {
   "cell_type": "code",
   "execution_count": null,
   "id": "a291430e-60f0-4467-bbd6-e66e7bde4152",
   "metadata": {},
   "outputs": [],
   "source": []
  }
 ],
 "metadata": {
  "kernelspec": {
   "display_name": "Python 3 (ipykernel)",
   "language": "python",
   "name": "python3"
  },
  "language_info": {
   "codemirror_mode": {
    "name": "ipython",
    "version": 3
   },
   "file_extension": ".py",
   "mimetype": "text/x-python",
   "name": "python",
   "nbconvert_exporter": "python",
   "pygments_lexer": "ipython3",
   "version": "3.8.6"
  }
 },
 "nbformat": 4,
 "nbformat_minor": 5
}
