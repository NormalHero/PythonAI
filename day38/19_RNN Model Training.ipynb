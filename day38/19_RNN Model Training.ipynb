{
 "cells": [
  {
   "cell_type": "code",
   "execution_count": 4,
   "id": "6dae7444",
   "metadata": {},
   "outputs": [],
   "source": [
    "import cv2\n",
    "import random\n",
    "import numpy as np\n",
    "import pandas as pd\n",
    "import matplotlib.pyplot as plt\n",
    "from pprint import pprint\n",
    "from glob import glob\n",
    "import os"
   ]
  },
  {
   "cell_type": "code",
   "execution_count": 5,
   "id": "ab7afbc8",
   "metadata": {},
   "outputs": [
    {
     "name": "stdout",
     "output_type": "stream",
     "text": [
      "array(['biking', 'diving', 'golf', 'juggle', 'jumping', 'riding',\n",
      "       'shooting', 'spiking', 'swing', 'tennis', 'walk'], dtype=object)\n",
      "{'biking': 0,\n",
      " 'diving': 1,\n",
      " 'golf': 2,\n",
      " 'juggle': 3,\n",
      " 'jumping': 4,\n",
      " 'riding': 5,\n",
      " 'shooting': 6,\n",
      " 'spiking': 7,\n",
      " 'swing': 8,\n",
      " 'tennis': 9,\n",
      " 'walk': 10}\n"
     ]
    }
   ],
   "source": [
    "LABEL_INT_DICT = np.unique(pd.read_csv('ucf11_train_vid.csv')['label'])\n",
    "LABEL_STR_DICT = {k:v for v, k in enumerate(LABEL_INT_DICT)}\n",
    "pprint(LABEL_INT_DICT)\n",
    "pprint(LABEL_STR_DICT)"
   ]
  },
  {
   "cell_type": "code",
   "execution_count": 7,
   "id": "1a73b0dd",
   "metadata": {},
   "outputs": [
    {
     "name": "stdout",
     "output_type": "stream",
     "text": [
      "Model: \"model\"\n",
      "_________________________________________________________________\n",
      " Layer (type)                Output Shape              Param #   \n",
      "=================================================================\n",
      " input_2 (InputLayer)        [(None, 10, 1280)]        0         \n",
      "                                                                 \n",
      " lstm_1 (LSTM)               (None, 10, 64)            344320    \n",
      "                                                                 \n",
      " lstm_2 (LSTM)               (None, 64)                33024     \n",
      "                                                                 \n",
      " dropout (Dropout)           (None, 64)                0         \n",
      "                                                                 \n",
      " dense (Dense)               (None, 11)                715       \n",
      "                                                                 \n",
      "=================================================================\n",
      "Total params: 378,059\n",
      "Trainable params: 378,059\n",
      "Non-trainable params: 0\n",
      "_________________________________________________________________\n"
     ]
    }
   ],
   "source": [
    "import tensorflow_hub as hub\n",
    "import tensorflow as tf\n",
    "from tensorflow import keras\n",
    "os.environ['CUDA_VISIBLE_DEVICES'] = '1'\n",
    "\n",
    "MAX_FRAMES = 10\n",
    "NUM_FEATURES = 1280\n",
    "\n",
    "def build_model():\n",
    "    inputs = keras.Input((MAX_FRAMES, NUM_FEATURES))\n",
    "    x = keras.layers.LSTM(64, return_sequences=True)(\n",
    "        inputs\n",
    "    )\n",
    "    x = keras.layers.LSTM(64, return_sequences=False)(\n",
    "        x\n",
    "    )\n",
    "    x = keras.layers.Dropout(0.3)(x)\n",
    "    outputs = keras.layers.Dense(len(LABEL_INT_DICT), activation='softmax')(x)\n",
    "    model = keras.Model(inputs, outputs)\n",
    "    return model\n",
    "\n",
    "adam = keras.optimizers.Adam(lr=0.0001)\n",
    "model = build_model()\n",
    "\n",
    "model.compile(\n",
    "    optimizer=adam,\n",
    "    loss = 'sparse_categorical_crossentropy',\n",
    "    metrics='accuracy'\n",
    ")\n",
    "\n",
    "model.summary()"
   ]
  },
  {
   "cell_type": "code",
   "execution_count": 10,
   "id": "86be46a3",
   "metadata": {},
   "outputs": [],
   "source": [
    "import albumentations as A\n",
    "import cv2\n",
    "import math\n",
    "import tensorflow as tf\n",
    "from tensorflow import keras\n",
    "\n",
    "class DataGenerator(keras.utils.Sequence):\n",
    "    def __init__(self, batch_size,\n",
    "        mode='train', shuffle=True):\n",
    "        assert mode in ['train', 'valid']\n",
    "        self.mode = mode\n",
    "        self.shuffle = shuffle\n",
    "        self.batch_size = batch_size\n",
    "        self.npy_paths = glob(\n",
    "            f'UCF11_updated_npy/{mode}/*.npy'\n",
    "        )\n",
    "    \n",
    "    def __len__(self):\n",
    "        return math.ceil(len(self.npy_paths) / self.batch_size)\n",
    "    \n",
    "    def __getitem__(self, idx):\n",
    "        strt = idx * self.batch_size\n",
    "        fin = (idx + 1) * self.batch_size\n",
    "        data = self.npy_paths[strt:fin]\n",
    "    \n",
    "        batch_x, batch_y = self.get_data(data)\n",
    "        return np.array(batch_x), np.array(batch_y)\n",
    "    \n",
    "    def get_data(self, data):\n",
    "        batch_x = []\n",
    "        batch_y = []\n",
    "        \n",
    "        for npy_path in data:\n",
    "            npy = np.load(npy_path)\n",
    "            \n",
    "            label = npy_path.split('\\\\')[-1].split('_')[0]\n",
    "            label = LABEL_STR_DICT[label]\n",
    "            \n",
    "            batch_x.append(npy)\n",
    "            batch_y.append(label)\n",
    "            \n",
    "        return batch_x, batch_y\n",
    "\n",
    "    def on_epoch_end(self):\n",
    "        if self.shuffle:\n",
    "            random.shuffle(self.npy_paths)\n",
    "    \n",
    "train_generator = DataGenerator(\n",
    "    mode='train',\n",
    "    batch_size=128,\n",
    "    shuffle=True)\n",
    "\n",
    "valid_generator = DataGenerator(\n",
    "    mode='valid',\n",
    "    batch_size=128,\n",
    "    shuffle=True)"
   ]
  },
  {
   "cell_type": "code",
   "execution_count": 11,
   "id": "a9d6fab2",
   "metadata": {},
   "outputs": [
    {
     "name": "stdout",
     "output_type": "stream",
     "text": [
      "(128, 10, 1280)\n",
      "(128,)\n"
     ]
    }
   ],
   "source": [
    "for x, y in train_generator:\n",
    "    print(x.shape)\n",
    "    print(y.shape)\n",
    "    break"
   ]
  },
  {
   "cell_type": "code",
   "execution_count": 13,
   "id": "0dfc7ac0",
   "metadata": {},
   "outputs": [
    {
     "name": "stdout",
     "output_type": "stream",
     "text": [
      "Epoch 1/30\n",
      "2/2 [==============================] - 0s 137ms/step - loss: 1.7597 - accuracy: 0.8455 - val_loss: 1.7883 - val_accuracy: 0.8909\n",
      "Epoch 2/30\n",
      "2/2 [==============================] - 0s 131ms/step - loss: 1.6650 - accuracy: 0.9000 - val_loss: 1.7416 - val_accuracy: 0.8909\n",
      "Epoch 3/30\n",
      "2/2 [==============================] - 0s 123ms/step - loss: 1.6370 - accuracy: 0.8864 - val_loss: 1.6957 - val_accuracy: 0.8909\n",
      "Epoch 4/30\n",
      "2/2 [==============================] - 0s 120ms/step - loss: 1.5905 - accuracy: 0.9045 - val_loss: 1.6507 - val_accuracy: 0.8909\n",
      "Epoch 5/30\n",
      "2/2 [==============================] - 0s 139ms/step - loss: 1.5378 - accuracy: 0.9227 - val_loss: 1.6065 - val_accuracy: 0.8909\n",
      "Epoch 6/30\n",
      "2/2 [==============================] - 0s 122ms/step - loss: 1.4939 - accuracy: 0.9727 - val_loss: 1.5632 - val_accuracy: 0.9091\n",
      "Epoch 7/30\n",
      "2/2 [==============================] - 0s 105ms/step - loss: 1.4317 - accuracy: 0.9545 - val_loss: 1.5207 - val_accuracy: 0.8909\n",
      "Epoch 8/30\n",
      "2/2 [==============================] - 0s 140ms/step - loss: 1.4044 - accuracy: 0.9545 - val_loss: 1.4792 - val_accuracy: 0.9091\n",
      "Epoch 9/30\n",
      "2/2 [==============================] - 0s 161ms/step - loss: 1.3524 - accuracy: 0.9864 - val_loss: 1.4386 - val_accuracy: 0.9091\n",
      "Epoch 10/30\n",
      "2/2 [==============================] - 0s 133ms/step - loss: 1.3130 - accuracy: 0.9727 - val_loss: 1.3986 - val_accuracy: 0.9091\n",
      "Epoch 11/30\n",
      "2/2 [==============================] - 0s 178ms/step - loss: 1.2655 - accuracy: 0.9727 - val_loss: 1.3595 - val_accuracy: 0.9091\n",
      "Epoch 12/30\n",
      "2/2 [==============================] - 0s 152ms/step - loss: 1.2319 - accuracy: 0.9818 - val_loss: 1.3213 - val_accuracy: 0.9091\n",
      "Epoch 13/30\n",
      "2/2 [==============================] - 0s 173ms/step - loss: 1.1728 - accuracy: 0.9909 - val_loss: 1.2838 - val_accuracy: 0.9091\n",
      "Epoch 14/30\n",
      "2/2 [==============================] - 0s 164ms/step - loss: 1.1522 - accuracy: 0.9818 - val_loss: 1.2473 - val_accuracy: 0.8909\n",
      "Epoch 15/30\n",
      "2/2 [==============================] - 0s 163ms/step - loss: 1.1040 - accuracy: 0.9955 - val_loss: 1.2115 - val_accuracy: 0.8909\n",
      "Epoch 16/30\n",
      "2/2 [==============================] - 0s 200ms/step - loss: 1.0654 - accuracy: 0.9818 - val_loss: 1.1767 - val_accuracy: 0.8909\n",
      "Epoch 17/30\n",
      "2/2 [==============================] - 0s 137ms/step - loss: 1.0296 - accuracy: 0.9955 - val_loss: 1.1430 - val_accuracy: 0.8909\n",
      "Epoch 18/30\n",
      "2/2 [==============================] - 0s 157ms/step - loss: 1.0017 - accuracy: 0.9955 - val_loss: 1.1099 - val_accuracy: 0.8909\n",
      "Epoch 19/30\n",
      "2/2 [==============================] - 0s 99ms/step - loss: 0.9628 - accuracy: 1.0000 - val_loss: 1.0777 - val_accuracy: 0.8909\n",
      "Epoch 20/30\n",
      "2/2 [==============================] - 0s 135ms/step - loss: 0.9234 - accuracy: 0.9955 - val_loss: 1.0463 - val_accuracy: 0.8909\n",
      "Epoch 21/30\n",
      "2/2 [==============================] - 0s 133ms/step - loss: 0.9132 - accuracy: 1.0000 - val_loss: 1.0159 - val_accuracy: 0.9455\n",
      "Epoch 22/30\n",
      "2/2 [==============================] - 0s 126ms/step - loss: 0.8732 - accuracy: 0.9955 - val_loss: 0.9864 - val_accuracy: 0.9455\n",
      "Epoch 23/30\n",
      "2/2 [==============================] - 0s 124ms/step - loss: 0.8582 - accuracy: 0.9955 - val_loss: 0.9579 - val_accuracy: 0.9455\n",
      "Epoch 24/30\n",
      "2/2 [==============================] - 0s 170ms/step - loss: 0.8041 - accuracy: 1.0000 - val_loss: 0.9305 - val_accuracy: 0.9455\n",
      "Epoch 25/30\n",
      "2/2 [==============================] - 0s 136ms/step - loss: 0.8033 - accuracy: 0.9955 - val_loss: 0.9039 - val_accuracy: 0.9455\n",
      "Epoch 26/30\n",
      "2/2 [==============================] - 0s 162ms/step - loss: 0.7465 - accuracy: 1.0000 - val_loss: 0.8783 - val_accuracy: 0.9455\n",
      "Epoch 27/30\n",
      "2/2 [==============================] - 0s 139ms/step - loss: 0.7374 - accuracy: 1.0000 - val_loss: 0.8534 - val_accuracy: 0.9455\n",
      "Epoch 28/30\n",
      "2/2 [==============================] - 0s 137ms/step - loss: 0.7283 - accuracy: 1.0000 - val_loss: 0.8296 - val_accuracy: 0.9455\n",
      "Epoch 29/30\n",
      "2/2 [==============================] - 0s 184ms/step - loss: 0.6820 - accuracy: 1.0000 - val_loss: 0.8068 - val_accuracy: 0.9455\n",
      "Epoch 30/30\n",
      "2/2 [==============================] - 0s 91ms/step - loss: 0.6511 - accuracy: 1.0000 - val_loss: 0.7847 - val_accuracy: 0.9455\n"
     ]
    }
   ],
   "source": [
    "history = model.fit(\n",
    "    train_generator,\n",
    "    validation_data=valid_generator,\n",
    "    epochs=30,\n",
    "    verbose=1\n",
    ")"
   ]
  },
  {
   "cell_type": "code",
   "execution_count": null,
   "id": "adcfed0d",
   "metadata": {},
   "outputs": [],
   "source": []
  }
 ],
 "metadata": {
  "kernelspec": {
   "display_name": "Python 3 (ipykernel)",
   "language": "python",
   "name": "python3"
  },
  "language_info": {
   "codemirror_mode": {
    "name": "ipython",
    "version": 3
   },
   "file_extension": ".py",
   "mimetype": "text/x-python",
   "name": "python",
   "nbconvert_exporter": "python",
   "pygments_lexer": "ipython3",
   "version": "3.8.6"
  }
 },
 "nbformat": 4,
 "nbformat_minor": 5
}
